{
 "cells": [
  {
   "cell_type": "code",
   "execution_count": 1,
   "id": "4dbf467a-75db-4fd0-9472-13e2ff8bcedb",
   "metadata": {},
   "outputs": [],
   "source": [
    "import analytics_util as au\n",
    "from pyspark.sql.functions import *\n",
    "from pyspark.sql.types import *\n",
    "from pyspark.sql.window import Window\n",
    "from config import MOCKAROO_END_POINT, CAMPAIGN_SCHEMA_NAME, DIM_CAMPAIGN_STAGE_PATH, CAMPAIGN_DETAILS_LANDING_ZONE_PATH"
   ]
  },
  {
   "cell_type": "code",
   "execution_count": 3,
   "id": "96204ac5-33f5-48d7-90bd-4470c83136c8",
   "metadata": {},
   "outputs": [],
   "source": [
    "spark = au.create_spark_session(\"MOCKAROO_CAMPAIGN_DATA_GEN\")"
   ]
  },
  {
   "cell_type": "markdown",
   "id": "ae92b462-b8e6-49a7-a6cb-23fa4ebbaf72",
   "metadata": {},
   "source": [
    "## Extract Data from Mockaroo End point"
   ]
  },
  {
   "cell_type": "code",
   "execution_count": 4,
   "id": "c390cd7f-0302-4816-a729-c6073445c7ba",
   "metadata": {},
   "outputs": [],
   "source": [
    "data = au.fetch_data_from_mockaroo(MOCKAROO_END_POINT,schema = CAMPAIGN_SCHEMA_NAME,  no_of_records=25)"
   ]
  },
  {
   "cell_type": "code",
   "execution_count": 10,
   "id": "30809676-0d8f-4267-a152-347f2469ab47",
   "metadata": {},
   "outputs": [],
   "source": [
    "mockaroo_campaign_schema = StructType([\n",
    "    StructField('campaign_agenda', StringType() ),\n",
    "    StructField('campaign_agenda_metrics', ArrayType(MapType(StringType(), IntegerType()) \n",
    "                                                    ),\n",
    "                nullable=False\n",
    "               ),\n",
    "    StructField(\"campaign_category\", StringType()),\n",
    "    StructField(\"course_campaign_end_date\", StringType(), nullable=True),\n",
    "    StructField(\"course_campaign_name\", StringType(), nullable=True),\n",
    "    StructField(\"course_campaign_start_date\", StringType(), nullable=False),\n",
    "    StructField(\"marketing_info\", ArrayType(MapType(StringType(), StringType())\n",
    "                                            ),\n",
    "                nullable=False\n",
    "               )\n",
    "\n",
    "\n",
    "    \n",
    "])"
   ]
  },
  {
   "cell_type": "code",
   "execution_count": 11,
   "id": "e3e9a0c9-a1b9-4426-8b0a-87948e351b95",
   "metadata": {},
   "outputs": [],
   "source": [
    "campaing_data_raw = spark.createDataFrame(data, schema=mockaroo_campaign_schema)"
   ]
  },
  {
   "cell_type": "markdown",
   "id": "c6644302-09cf-4866-aaae-a5403c4a8eeb",
   "metadata": {},
   "source": [
    "## Tranformation"
   ]
  },
  {
   "cell_type": "code",
   "execution_count": 12,
   "id": "b74b4c40-c918-4826-8dde-0c52b329900d",
   "metadata": {},
   "outputs": [],
   "source": [
    "campaign_data = campaing_data_raw.withColumn(\"campaign_agenda_sent\", col(\"campaign_agenda_metrics\")[0].getField('sent'))\\\n",
    ".withColumn(\"campaign_agenda_open\", col(\"campaign_agenda_metrics\")[0].getField('open'))\\\n",
    ".withColumn(\"campaign_agenda_click\", col(\"campaign_agenda_metrics\")[0].getField('click'))\\\n",
    ".withColumn(\"campaign_agenda_unsubscribe\", col(\"campaign_agenda_metrics\")[0].getField('unsubscribe'))\\\n",
    ".withColumn(\"digital_marketing_team\", col(\"marketing_info\")[0].getField('team'))\\\n",
    ".withColumn(\"marketing_product\", col(\"marketing_info\")[0].getField(\"product\"))\\\n",
    ".drop('campaign_agenda_metrics')\\\n",
    ".drop('marketing_info')\n"
   ]
  },
  {
   "cell_type": "markdown",
   "id": "fbd2c37d-8234-4dd7-883e-7832c2f03655",
   "metadata": {},
   "source": [
    "##### Handling Nulls for important fields"
   ]
  },
  {
   "cell_type": "code",
   "execution_count": 14,
   "id": "9f2a2885-518a-4906-b06a-00a33b40df28",
   "metadata": {},
   "outputs": [],
   "source": [
    "campaign_data =campaign_data.fillna(100, subset='campaign_agenda_sent')\n",
    "\n",
    "campaign_data = campaign_data.withColumn(\"course_campaign_start_date\", when(col('course_campaign_start_date').isNull(), current_date() )\\\n",
    "                                                    .otherwise(col('course_campaign_start_date'))\n",
    "                        )\\\n",
    ".withColumn(\"course_campaign_end_date\", when(col('course_campaign_end_date').isNull(), date_add(col('course_campaign_start_date'), 14 ))\\\n",
    "                                        .otherwise(col('course_campaign_end_date'))\n",
    "           \n",
    "           )\\\n",
    ".withColumn(\"campaign_agenda_open\", when(col('campaign_agenda_open').isNull(), round(col('campaign_agenda_sent')*0.6, 0) )\\\n",
    "                                    .otherwise(col('campaign_agenda_open'))\n",
    "           \n",
    "           )\\\n",
    ".withColumn(\"campaign_agenda_click\", when(col('campaign_agenda_click').isNull(), round(col('campaign_agenda_sent')*0.3, 0) )\\\n",
    "                                    .otherwise(col('campaign_agenda_click'))\n",
    "           \n",
    "           )\\\n",
    ".withColumn(\"campaign_agenda_unsubscribe\", when(col('campaign_agenda_unsubscribe').isNull(), round(col('campaign_agenda_sent')*0.02, 0) )\\\n",
    "                                    .otherwise(col('campaign_agenda_unsubscribe'))\n",
    "           \n",
    "           )\\\n",
    ".withColumn('marketing_product', regexp_extract(col('course_campaign_name'), r\"email_(\\w+)\",1))\n",
    "\n"
   ]
  },
  {
   "cell_type": "markdown",
   "id": "80d5248d-daa9-40e8-8386-a355398108d0",
   "metadata": {},
   "source": [
    "##### Checking the percentage of nulls after handling Nulls"
   ]
  },
  {
   "cell_type": "code",
   "execution_count": 15,
   "id": "686ad4de-99d8-47dd-8d5f-d4eeb42aa209",
   "metadata": {},
   "outputs": [
    {
     "name": "stderr",
     "output_type": "stream",
     "text": [
      "                                                                                \r"
     ]
    }
   ],
   "source": [
    "fields_with_null_values = 0 \n",
    "for c in campaign_data.columns:\n",
    "    nulls =  campaign_data.where(col(c).isNull()).count()\n",
    "    if nulls>0:\n",
    "        nulls_perc = (nulls/campaign_data.count())*100\n",
    "        print(\"Field {0} has {1}% nulls\".format(c, nulls_perc))"
   ]
  },
  {
   "cell_type": "markdown",
   "id": "706f540b-3fbb-42a3-a24b-6540f974a76f",
   "metadata": {},
   "source": [
    "##### Creating campaign id\n"
   ]
  },
  {
   "cell_type": "code",
   "execution_count": 16,
   "id": "4d10a365-22fc-4d41-9831-741eb74fc11f",
   "metadata": {},
   "outputs": [],
   "source": [
    "dim_campaign_schema = StructType([\n",
    "    StructField(\"campaign_id\", IntegerType(), nullable=True)\n",
    "    \n",
    "])\n",
    "dim_campaign_data = spark.read.parquet(DIM_CAMPAIGN_STAGE_PATH+\"*/*\",schema = dim_campaign_schema, header = True)"
   ]
  },
  {
   "cell_type": "code",
   "execution_count": 17,
   "id": "62c92bd5-bc59-4c63-ab3a-b3178bcf69db",
   "metadata": {
    "scrolled": true
   },
   "outputs": [
    {
     "name": "stderr",
     "output_type": "stream",
     "text": [
      "                                                                                \r"
     ]
    }
   ],
   "source": [
    "max_campaign_id = eval(dim_campaign_data.agg(max('campaign_id').alias('max_id')).first()[0])\n",
    "window_spec = Window.partitionBy().orderBy('course_campaign_name')\n",
    "campaign_data = campaign_data.withColumn('campaign_id',(row_number().over(window_spec))+max_campaign_id )"
   ]
  },
  {
   "cell_type": "markdown",
   "id": "e6223e9e-8408-428b-a5ab-61ff05ba61fa",
   "metadata": {},
   "source": [
    "## Load"
   ]
  },
  {
   "cell_type": "code",
   "execution_count": 20,
   "id": "2f14d71c-de73-48cb-94d0-38a8830ca79d",
   "metadata": {},
   "outputs": [],
   "source": [
    "col_order = ['campaign_id','course_campaign_name','campaign_agenda','campaign_category','campaign_agenda_sent','campaign_agenda_open','campaign_agenda_click',\n",
    "'campaign_agenda_unsubscribe','digital_marketing_team','course_campaign_start_date','course_campaign_end_date','marketing_product']\n",
    "\n",
    "\n",
    "campaign_data_prcessed = campaign_data[col_order]"
   ]
  },
  {
   "cell_type": "code",
   "execution_count": 23,
   "id": "344f25b8-45ae-4867-9d48-577c3bb9658d",
   "metadata": {},
   "outputs": [
    {
     "name": "stderr",
     "output_type": "stream",
     "text": [
      "24/04/21 23:49:29 WARN WindowExec: No Partition Defined for Window operation! Moving all data to a single partition, this can cause serious performance degradation.\n"
     ]
    }
   ],
   "source": [
    "campaign_data_prcessed.coalesce(1).write.format(\"csv\").mode(\"append\").mode(\"append\").option(\"path\", CAMPAIGN_DETAILS_LANDING_ZONE_PATH).option(\"header\", True).save()"
   ]
  },
  {
   "cell_type": "code",
   "execution_count": 262,
   "id": "211c7648-432e-45d6-a671-4821a485715a",
   "metadata": {},
   "outputs": [],
   "source": [
    "spark.stop()"
   ]
  }
 ],
 "metadata": {
  "kernelspec": {
   "display_name": "Python 3 (ipykernel)",
   "language": "python",
   "name": "python3"
  },
  "language_info": {
   "codemirror_mode": {
    "name": "ipython",
    "version": 3
   },
   "file_extension": ".py",
   "mimetype": "text/x-python",
   "name": "python",
   "nbconvert_exporter": "python",
   "pygments_lexer": "ipython3",
   "version": "3.10.12"
  }
 },
 "nbformat": 4,
 "nbformat_minor": 5
}
